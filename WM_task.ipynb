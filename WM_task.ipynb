{
 "cells": [
  {
   "cell_type": "code",
   "execution_count": 85,
   "metadata": {},
   "outputs": [],
   "source": [
    "import pandas as pd\n"
   ]
  },
  {
   "cell_type": "code",
   "execution_count": 86,
   "metadata": {},
   "outputs": [
    {
     "name": "stderr",
     "output_type": "stream",
     "text": [
      "/var/folders/sm/hmm_qwmj0rjfxblg2m_hsl6h0000gn/T/ipykernel_40973/2589332612.py:2: DtypeWarning: Columns (181,190,396,397,400,401,403,406,408) have mixed types. Specify dtype option on import or set low_memory=False.\n",
      "  df2 = pd.read_csv('unrestricted.csv',sep=';')\n"
     ]
    }
   ],
   "source": [
    "df1 = pd.read_csv('HCPReHoPower2011.csv')\n",
    "df2 = pd.read_csv('unrestricted.csv',sep=';')\n"
   ]
  },
  {
   "cell_type": "code",
   "execution_count": 87,
   "metadata": {},
   "outputs": [
    {
     "name": "stderr",
     "output_type": "stream",
     "text": [
      "/var/folders/sm/hmm_qwmj0rjfxblg2m_hsl6h0000gn/T/ipykernel_40973/2510943067.py:3: FutureWarning: The default value of numeric_only in DataFrameGroupBy.mean is deprecated. In a future version, numeric_only will default to False. Either specify numeric_only or select only columns which should be valid for the function.\n",
      "  averaged_df1 = grouped.mean()\n"
     ]
    }
   ],
   "source": [
    "# Calculate average across REST1/LR, REST1/RL, REST2/LR, REST2/RL \n",
    "grouped = df1.groupby('subject', as_index=False)\n",
    "averaged_df1 = grouped.mean()\n",
    "\n",
    "# Merge them together \n",
    "merged_df = pd.merge(averaged_df1, df2, left_on='subject', right_on='Subject')\n",
    "\n",
    "# Ouput the merged dataframe\n",
    "merged_df.to_csv('merged_data.csv', index=False)"
   ]
  }
 ],
 "metadata": {
  "kernelspec": {
   "display_name": "base",
   "language": "python",
   "name": "python3"
  },
  "language_info": {
   "codemirror_mode": {
    "name": "ipython",
    "version": 3
   },
   "file_extension": ".py",
   "mimetype": "text/x-python",
   "name": "python",
   "nbconvert_exporter": "python",
   "pygments_lexer": "ipython3",
   "version": "3.10.9"
  },
  "orig_nbformat": 4
 },
 "nbformat": 4,
 "nbformat_minor": 2
}
